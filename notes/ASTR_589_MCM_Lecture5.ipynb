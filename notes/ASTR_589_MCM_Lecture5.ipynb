{
 "cells": [
  {
   "cell_type": "code",
   "execution_count": 132,
   "metadata": {
    "collapsed": false
   },
   "outputs": [],
   "source": [
    "%matplotlib inline\n",
    "\n",
    "from __future__ import division, print_function\n",
    "\n",
    "import numpy as np\n",
    "import matplotlib as mpl\n",
    "import matplotlib.pyplot as plt\n",
    "from scipy.special import factorial\n",
    "from scipy.special import gamma\n",
    "import time\n",
    "from scipy import integrate\n",
    "\n",
    "#Typical plot parameters that make for pretty plots\n",
    "mpl.rcParams['figure.figsize'] = (8,8)\n",
    "mpl.rcParams['font.size'] = 20.0\n",
    "mpl.rc('text', usetex='true') "
   ]
  },
  {
   "cell_type": "markdown",
   "metadata": {},
   "source": [
    "### Set my random seed"
   ]
  },
  {
   "cell_type": "code",
   "execution_count": 5,
   "metadata": {
    "collapsed": true
   },
   "outputs": [],
   "source": [
    "np.random.seed(int((time.time()%1)*1.0e8))"
   ]
  },
  {
   "cell_type": "markdown",
   "metadata": {},
   "source": [
    "### Proof that metropolis algorithm works\n",
    "\n",
    "---\n",
    "\n",
    "Boltzmann factor is $e^{-E/kT}$ for energy E.\n",
    "\n",
    "Suppose n$_r$ is the number of systems in state r and n$_s$ is the number of systems in state s.  Assume the system is ergodic (any state can be reached from any other state in one or more steps [think particles in a box]) and E$_r$ > E$_s$ where r and s differ by one particle's one move within a square of side 2*alpha.  Recall, alpha is the MC step size.\n",
    "\n",
    "Let P_rs be the probability of moving from r to s.  P$_{rs}$ = $P_{sr}$.  The total number of systems moving from r to s is n$_r$ * P$_rs$ (n_r is number of states in r, not a number density) since all moves to a lower energy state (downhill) are accepted.  In the other direction, we must consider the Boltzmann factor.\n",
    "\n",
    "The number of systems moving from s to r (uphill) is n$_s$ * P$_sr$ * $e^{-(E_r - E_s)/kT}$.\n",
    "\n",
    "In equilibrium, the rate of going one way equals the rate of going the other way.  From this, we get:\n",
    "\n",
    "n$_r$ * P$_rs$ = n$_s$ * P$_sr$ * $e^{-(E_r - E_s)/kT}$ where since P$_{rs}$ = $P_{sr}$, we get\n",
    "\n",
    "$$\n",
    "\\frac{n_r}{n_s} = e^{-(E_r - E_s)/kT}\n",
    "$$\n",
    "\n",
    "giving us the Boltzmann distribution for a classical system."
   ]
  },
  {
   "cell_type": "markdown",
   "metadata": {},
   "source": [
    "### Metropolis algorithm notes\n",
    "\n",
    "---\n",
    "\n",
    "For step size alpha:\n",
    "\n",
    "If alpha is too large, most moves will be rejected.  If alpha is too small, the configuration will not change enough and you will not sample enough of states.  Choose your step step so your acceptance ratio is somewhere between 0.3 and 0.7 (0.44 is a good one for some reason)."
   ]
  },
  {
   "cell_type": "markdown",
   "metadata": {},
   "source": [
    "# Ising model for magnetism\n",
    "\n",
    "link: https://en.wikipedia.org/wiki/Ising_model\n",
    "\n",
    "Imagine that you have a 2D lattice where at each point, the spin can be up or down.  There is some temperature T$_c$ where for temperatures about that, the magnetism goes away.\n",
    "\n",
    "The Hamiltonian is\n",
    "$$\n",
    "H = -\\sum_{i,j \\ neighbors} s_i s_j\n",
    "$$\n",
    "\n",
    "assuming periodic boundary conditions where each s can be +1 or -1.  In the ground state at time = 0, all states are pointing up or down to give lowest energy.\n",
    "\n",
    "To solve, go to random state, flip it, compute change in energy via Metropolis algorithm.\n",
    "\n",
    "Note that for an NxN lattice, there are $2^{n^2}$ possible states!\n",
    "\n",
    "### Algorithm to find the ground state:\n",
    "\n",
    "---\n",
    "\n",
    "```\n",
    "Note: pseudo-core is a c/c++ and python hybrid by the looks of it\n",
    "\n",
    "1) Initialize spins, energy, and magnetization\n",
    "\n",
    "    E = 0.0 # Init energy\n",
    "    M = 0.0 # Init magnetization\n",
    "    total_M = 0.0 # keeps track of M for all configurations\n",
    "    # at end, you take average of total_M\n",
    "\n",
    "    #have some matrix spin[L+1][L+1] for lattice length L\n",
    "    for(i = 0, i <= L+1, i++)\n",
    "        for(j = 0, j <= L+1, j++)\n",
    "            spin[i][j] = +1 or -1 from some RNG\n",
    "            \n",
    "            # 0.5 to prevent over counting!\n",
    "            # Energy is energy of self plus that of neighbors\n",
    "            # Make sure to catch boundaries!\n",
    "            # Periodic or open works\n",
    "            E = E - 0.5*(spin[i][j] * (spin[i+1][j] + spin[i-1][j] + spin[i][j+1] + spin[i][j-1]))\n",
    "            \n",
    "            # Init magnetization M\n",
    "            M = M + spin[i][j]\n",
    "            \n",
    "2) Iterate, metropolis step\n",
    "    \n",
    "    # Start with some high temperature\n",
    "    current_t = 3.0\n",
    "    \n",
    "    for(t = 0; t <= MAX_NUM_TEMPERATURE; t++)\n",
    "        current_t = current_t - DELTA # get a lower temperature\n",
    "    \n",
    "        for(step = 1; step < MAX_STEPS; step++) # note, MAX_STEPS ~ MAX*L^2\n",
    "            # Pick some random i, j\n",
    "            i = randint(1,L)\n",
    "            j = randint(1,L)\n",
    "            \n",
    "            # Now do the metropolis step and suppose we flip given i,j\n",
    "            # we know energy cost\n",
    "            delta_energy = 2.0 * (spin[i][j] * (spin[i+1][j] + spin[i-1][j] + spin[i][j+1] + spin[i][j-1]))\n",
    "            \n",
    "            # if energy is less, we accept spin flip\n",
    "            if(delta_energy < 0.0) # going downhill!\n",
    "                spin[i][j] = -spin[i][j]\n",
    "            else: # going uphill!\n",
    "                r = random real between 0 and 1\n",
    "                if(r < exp(-delta_energy/k*current_t)) # accept it sometimes... set k = 1 for our units\n",
    "                    # accept the spin flip\n",
    "                    spin[i][j] = -spin[i][j]\n",
    "                else:\n",
    "                    # do nothing\n",
    "                    pass\n",
    "                    \n",
    "            # Recompute total magnetization\n",
    "            total_M += M\n",
    "            \n",
    "3) At end, compute average magnetization\n",
    "    \n",
    "    avg_M = total_M/(number of monte carlo steps)\n",
    "            \n",
    "```\n",
    "\n",
    "With this, plot temperture vs. average magnetization and you'll find T$_c$ to be around 2.2."
   ]
  },
  {
   "cell_type": "markdown",
   "metadata": {},
   "source": [
    "# Homework 5 scratch work"
   ]
  },
  {
   "cell_type": "code",
   "execution_count": 36,
   "metadata": {
    "collapsed": true
   },
   "outputs": [],
   "source": [
    "def p(x):\n",
    "    c = 1.0/5.01325654926 # Normalization coeff derived by integrating from -inf to inf\n",
    "                          # using res = integrate.quad(p, -np.inf, np.inf)[0]\n",
    "    return c*(np.exp(-np.power(x + 6.,2)/2.0) + np.exp(-np.power(x - 6.,2)/2.0))"
   ]
  },
  {
   "cell_type": "code",
   "execution_count": 115,
   "metadata": {
    "collapsed": true
   },
   "outputs": [],
   "source": [
    "def metropolis(x_int, P, N=10000, delta=1):\n",
    "    \n",
    "    # array to store result\n",
    "    if N > 1.0e7:\n",
    "        print(\"My laptop can't handle this!\\n\")\n",
    "        return -1\n",
    "    res = np.zeros(N)\n",
    "    \n",
    "    # Set x to be initial user-defined x\n",
    "    x = x_int \n",
    "    \n",
    "    # y = probability of initial x value\n",
    "    y = P(x)\n",
    "    \n",
    "    # Do the following N times\n",
    "    for i in range(0,N):\n",
    "        # Get random value between 0 and delta\n",
    "        s = np.random.uniform(low=0, high=delta)\n",
    "        \n",
    "        # Now assign a sign to delta since you can go forwards or backwards\n",
    "        # In a given dimension\n",
    "        sig = np.random.uniform(low=0, high=1)\n",
    "        if(sig <= 0.5):\n",
    "            s *= -1.0\n",
    "        \n",
    "        # The new trial value of x_new\n",
    "        x_new = x + s\n",
    "        y_new = P(x_new)\n",
    "        \n",
    "        # Metropolis algorithm core step\n",
    "        if(y_new > y): # Accept new x_new as it's uphill!\n",
    "            x = x_new\n",
    "            y = y_new\n",
    "        else: # Going downhill, sometimes accept step \n",
    "            # Get random value between 0 and 1\n",
    "            r = np.random.uniform(low=0.0, high=1.0)\n",
    "            \n",
    "            if(y_new/y < r): # Accept x_new\n",
    "                x = x_new\n",
    "                y = y_new\n",
    "            # end if\n",
    "        # end if-else\n",
    "        \n",
    "        # Store result of step\n",
    "        res[i] = x\n",
    "        \n",
    "    # end main for loop\n",
    "    return res\n",
    "# end function"
   ]
  },
  {
   "cell_type": "code",
   "execution_count": 113,
   "metadata": {
    "collapsed": false
   },
   "outputs": [
    {
     "name": "stderr",
     "output_type": "stream",
     "text": [
      "/anaconda/lib/python2.7/site-packages/ipykernel/__main__.py:37: RuntimeWarning: invalid value encountered in double_scalars\n"
     ]
    }
   ],
   "source": [
    "res = metropolis(0.0 ,p , delta = 0.75, N = 1000000)"
   ]
  },
  {
   "cell_type": "code",
   "execution_count": 136,
   "metadata": {
    "collapsed": false
   },
   "outputs": [
    {
     "data": {
      "text/plain": [
       "<matplotlib.legend.Legend at 0x115a05f50>"
      ]
     },
     "execution_count": 136,
     "metadata": {},
     "output_type": "execute_result"
    },
    {
     "data": {
      "image/png": "[encoded data removed]",
      "text/plain": [
       "<matplotlib.figure.Figure at 0x1158e59d0>"
      ]
     },
     "metadata": {},
     "output_type": "display_data"
    }
   ],
   "source": [
    "fig, ax = plt.subplots(figsize=(8,8))\n",
    "\n",
    "# Plot the histogram of my results\n",
    "ax.hist(res, 50, normed=1, facecolor='green', alpha=0.75, label=r\"$Metropolis \\ Result$\");\n",
    "\n",
    "# Plot the true distribution\n",
    "x = np.linspace(-20,20,1000)\n",
    "ax.plot(x,p(x), color=\"blue\", lw=3, label=r\"$P(x)$\")\n",
    "\n",
    "# Format\n",
    "ax.set_xlabel(r\"x\")\n",
    "ax.set_ylabel(r\"$Probability$\")\n",
    "ax.grid(True)\n",
    "ax.legend(bbox_to_anchor=[1.7,1.0])"
   ]
  },
  {
   "cell_type": "code",
   "execution_count": null,
   "metadata": {
    "collapsed": true
   },
   "outputs": [],
   "source": []
  }
 ],
 "metadata": {
  "kernelspec": {
   "display_name": "Python 2",
   "language": "python",
   "name": "python2"
  },
  "language_info": {
   "codemirror_mode": {
    "name": "ipython",
    "version": 2
   },
   "file_extension": ".py",
   "mimetype": "text/x-python",
   "name": "python",
   "nbconvert_exporter": "python",
   "pygments_lexer": "ipython2",
   "version": "2.7.11"
  }
 },
 "nbformat": 4,
 "nbformat_minor": 0
}
