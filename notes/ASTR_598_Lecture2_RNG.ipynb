{
 "cells": [
  {
   "cell_type": "markdown",
   "metadata": {},
   "source": [
    "# ASTR 598 Monte Carlo Methods April 8th, 2016\n",
    "\n",
    "---\n",
    "\n",
    "### Random numbers, Generating them, and You"
   ]
  },
  {
   "cell_type": "code",
   "execution_count": 2,
   "metadata": {
    "collapsed": true
   },
   "outputs": [],
   "source": [
    "from __future__ import print_function, division\n",
    "\n",
    "import numpy as np\n",
    "import time\n",
    "import math\n",
    "import matplotlib as mpl\n",
    "import matplotlib.pyplot as plt"
   ]
  },
  {
   "cell_type": "markdown",
   "metadata": {},
   "source": [
    "### Monte Carlo Integration\n",
    "\n",
    "---\n",
    "\n",
    "Useful to integrate when your dimension d > 10 or so.\n",
    "\n",
    "If you sample function with N points, the error scales as error (variance) $\\sim 1/\\sqrt{N}$.  Slow, but guarenteed.  Make sure to vary point number, like use N and 2N when doing calculations for a good error comparison.  Also, you should run multiple independent simulations (different RNG seeds, of course!) to get a better answer, more robust error.  To do this, run multiple copies on different cores (easy to parallelize!), can plot distribution of answers to get answer, error from width of distribution.  We expect this error to decrease as the error equation given above.\n",
    "\n",
    "Pros:\n",
    "```\n",
    "1. Good for large number of dimensions\n",
    "2. error ~ 1/sqrt(N)\n",
    "3. easy to run multiple independent simulations for comparison/error estimate\n",
    "4. easy to parallelize\n",
    "5. easy to check point (save state if calculation is interupted)\n",
    "    -Ex: every x steps, print out RNG seed, point information to some file\n",
    "```\n",
    "\n",
    "Cons:\n",
    "```\n",
    "1. Can be slow for large N\n",
    "2. Can require large N to beat down errors\n",
    "```\n",
    "\n",
    "Ex. Estimating pi using Monte Carlo Integration\n",
    "```\n",
    "1. Draw random x, y from [0,1] uniformly\n",
    "2. Check to see if it's within the circle (if x^2 + y^2 < 1)\n",
    "3. Count total points, total points within circle\n",
    "4: (area of circle quadrant)/(area of 1 by 1 square) == (number of points within circle)/(total number of points)\n",
    "```\n",
    "\n",
    "Algorithms like this are really easy to generalize to a higher dimension.  Imagine some 10-sphere of \"radius\" 1.  Finding it's 10-volume (whatever that is) via Monte Carlo integration uses the same scheme as above but the if statement becomes\n",
    "```\n",
    "if x1^2 + x2^2 + ... + x10^2 < 1:\n",
    "    area_count++\n",
    "```"
   ]
  },
  {
   "cell_type": "markdown",
   "metadata": {},
   "source": [
    "### Random numbers in python\n",
    "Has science gone too far?\n",
    "\n",
    "---\n",
    "\n",
    "Numpy random is great! See here: http://docs.scipy.org/doc/numpy/reference/routines.random.html.  But all these algorithms are psuedorandom meaning they can pass statistical tests of randomness, depending on the algorithm, of course, but are totally deterministic."
   ]
  },
  {
   "cell_type": "code",
   "execution_count": 6,
   "metadata": {
    "collapsed": false
   },
   "outputs": [
    {
     "name": "stdout",
     "output_type": "stream",
     "text": [
      "659\n",
      "229\n",
      "775\n",
      "182\n",
      "545\n",
      "46\n",
      "340\n",
      "933\n",
      "886\n",
      "111\n"
     ]
    }
   ],
   "source": [
    "# print random numbers\n",
    "# omg im so rndom\n",
    "\n",
    "for i in range(10):\n",
    "    print(np.random.randint(1,1000)) # Return random integers from low (inclusive) to high (exclusive)."
   ]
  },
  {
   "cell_type": "markdown",
   "metadata": {},
   "source": [
    "### For actual calculations, we want to control the random seed.\n",
    "This allows us to reproduce results and weed out bugs if need be."
   ]
  },
  {
   "cell_type": "code",
   "execution_count": 10,
   "metadata": {
    "collapsed": false
   },
   "outputs": [
    {
     "name": "stdout",
     "output_type": "stream",
     "text": [
      "511\n",
      "366\n",
      "383\n",
      "323\n",
      "989\n",
      "99\n",
      "743\n",
      "18\n",
      "596\n",
      "107\n"
     ]
    }
   ],
   "source": [
    "# print random numbers\n",
    "\n",
    "# Set the seed!\n",
    "np.random.seed(123)\n",
    "\n",
    "for i in range(10):\n",
    "    print(np.random.randint(1,1000)) # Return random integers from low (inclusive) to high (exclusive)."
   ]
  },
  {
   "cell_type": "markdown",
   "metadata": {},
   "source": [
    "With a given seed, we get the same random number sequence!"
   ]
  },
  {
   "cell_type": "markdown",
   "metadata": {},
   "source": [
    "### Good way to seed?\n",
    "\n",
    "---\n",
    "\n",
    "Typically, we use the system time when your simulations start at least a second apart.  Note: this will overflow in 2038!"
   ]
  },
  {
   "cell_type": "code",
   "execution_count": 18,
   "metadata": {
    "collapsed": false
   },
   "outputs": [
    {
     "name": "stdout",
     "output_type": "stream",
     "text": [
      "Seed: 1460136939.812944\n"
     ]
    }
   ],
   "source": [
    "seed=time.time()\n",
    "print(\"Seed: %lf\" % seed)"
   ]
  },
  {
   "cell_type": "markdown",
   "metadata": {},
   "source": [
    "If you want to see what your RNG is doing, call get_state().  Below the output is suppressed, but it tells use that we're using the Mersenne Twister algorithm."
   ]
  },
  {
   "cell_type": "code",
   "execution_count": 19,
   "metadata": {
    "collapsed": false
   },
   "outputs": [],
   "source": [
    "np.random.get_state();"
   ]
  },
  {
   "cell_type": "markdown",
   "metadata": {},
   "source": [
    "### Get a random normal deviate:"
   ]
  },
  {
   "cell_type": "code",
   "execution_count": 22,
   "metadata": {
    "collapsed": false
   },
   "outputs": [
    {
     "data": {
      "text/plain": [
       "array([-0.76943347,  0.57674602,  0.12652592, -1.30148897,  2.20742744,\n",
       "        0.52274247,  0.46564476,  0.72491523,  1.49582653,  0.74658059])"
      ]
     },
     "execution_count": 22,
     "metadata": {},
     "output_type": "execute_result"
    }
   ],
   "source": [
    "mu = 0.0\n",
    "sigma = 1.0\n",
    "num_vals = 10\n",
    "np.random.normal(mu, sigma, num_vals)"
   ]
  },
  {
   "cell_type": "markdown",
   "metadata": {},
   "source": [
    "# Math\n",
    "\n",
    "Suppose for some distribution P(z) where $\\int_0^{\\infty}P(z)dz = 1$ with a cumulative distribution function of\n",
    "$$\n",
    "F(x) = \\int_0^x P(z)dz \n",
    "$$\n",
    "\n",
    "$$\n",
    "dF = P(z)dz\n",
    "$$\n",
    "\n",
    "$$\n",
    "\\int_0^{F_0} dF = \\int_0^{x_0} P(z)dz \n",
    "$$\n",
    "\n",
    "$$\n",
    "F_0 = \\int_0^{x_0} P(z)dz \n",
    "$$\n",
    "\n",
    "So suppose you can only sample a uniform distribution from [0,1] = $F_0$.  You use that to solve for $x_0$ and $x_0$ will be distributed according to P(z).  This methods handles ANY arbitrary distrubiton and allows you to randomly sample P(z) given any random uniform variate from [0,1]!  This works because a given CDF of a sample is a uniform distribution from [0,1] (proof: http://stats.stackexchange.com/questions/161635/why-is-the-cdf-of-a-sample-uniformly-distributed)\n",
    "\n",
    "### Ex: Exponential distribution\n",
    "\n",
    "---\n",
    "\n",
    "$$\n",
    "P(z) = \\lambda e^{-\\lambda z}\n",
    "$$\n",
    "\n",
    "for $0 \\leq z < \\infty$\n",
    "\n",
    "$$\n",
    "F_0 = \\int_0^{x_0} \\lambda e^{-\\lambda z} dz\n",
    "$$\n",
    "We can evaluate this analytically!\n",
    "\n",
    "...math...\n",
    "\n",
    "$$\n",
    "F_0 - 1 = -e^{-\\lambda x_0} \n",
    "$$\n",
    "\n",
    "...more math...\n",
    "\n",
    "$$\n",
    "x_0 = \\frac{-1}{\\lambda} \\log{(1-F_0)}\n",
    "$$\n",
    "\n",
    "where log is the natural log.\n",
    "\n",
    "Therefore, all you have to do is plug in $F_0$ (random uniform variate from [0,1]) into the above expression and it givens you a random variate drawn from the exponential distribution!\n",
    "\n",
    "### Ex: Lorentz distribution\n",
    "\n",
    "---\n",
    "\n",
    "$$\n",
    "P(z) = \\frac{2}{\\pi}\\frac{1}{1 + z^2}\n",
    "$$\n",
    "\n",
    "for $0 \\leq z < \\infty$\n",
    "\n",
    "$$\n",
    "F_0 = \\frac{2}{\\pi} \\int_0^{x_0} \\frac{dz}{1 + z^2} \n",
    "$$\n",
    "We can evaluate this analytically (thanks to integral tables)!\n",
    "\n",
    "...math...\n",
    "\n",
    "$$\n",
    "F_0 = \\frac{2}{\\pi}[arctan(x_0)]\n",
    "$$\n",
    "\n",
    "...more math...\n",
    "\n",
    "$$\n",
    "x_0 = \\tan(\\frac{\\pi}{2} F_0)\n",
    "$$\n",
    "\n",
    "where log is the natural log.\n",
    "\n",
    "Therefore, all you have to do is plug in $F_0$ (random uniform variate from [0,1]) into the above expression and it givens you a random variate drawn from the Lorentz distribution!\n",
    "\n",
    "If we instead want $-\\infty < z < \\infty$,\n",
    "\n",
    "```\n",
    "if xi_1 < 0.5)\n",
    "    x = -tan(pi/2 * x2)\n",
    "else\n",
    "    x = +tan(pi/2 * x2)\n",
    "```\n",
    "for some random x2."
   ]
  },
  {
   "cell_type": "markdown",
   "metadata": {},
   "source": [
    "## Sampling From Gaussian: Box-Muller Transform\n",
    "See here: https://en.wikipedia.org/wiki/Box%E2%80%93Muller_transform\n",
    "where U = 1 - x for uniform random x."
   ]
  },
  {
   "cell_type": "code",
   "execution_count": null,
   "metadata": {
    "collapsed": true
   },
   "outputs": [],
   "source": []
  }
 ],
 "metadata": {
  "kernelspec": {
   "display_name": "Python 2",
   "language": "python",
   "name": "python2"
  },
  "language_info": {
   "codemirror_mode": {
    "name": "ipython",
    "version": 2
   },
   "file_extension": ".py",
   "mimetype": "text/x-python",
   "name": "python",
   "nbconvert_exporter": "python",
   "pygments_lexer": "ipython2",
   "version": "2.7.11"
  }
 },
 "nbformat": 4,
 "nbformat_minor": 0
}
