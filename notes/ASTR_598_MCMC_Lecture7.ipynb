{
 "cells": [
  {
   "cell_type": "code",
   "execution_count": 143,
   "metadata": {
    "collapsed": false
   },
   "outputs": [],
   "source": [
    "%matplotlib inline\n",
    "\n",
    "from __future__ import division, print_function\n",
    "\n",
    "import numpy as np\n",
    "import matplotlib as mpl\n",
    "import matplotlib.pyplot as plt\n",
    "import time\n",
    "\n",
    "#Typical plot parameters that make for pretty plots\n",
    "mpl.rcParams['figure.figsize'] = (9,8)\n",
    "mpl.rcParams['font.size'] = 25.0\n",
    "\n",
    "from matplotlib import rc\n",
    "## for Palatino and other serif fonts use:\n",
    "rc('font',**{'family':'serif','serif':['Computer Modern']})\n",
    "rc('text', usetex=True)"
   ]
  },
  {
   "cell_type": "code",
   "execution_count": 2,
   "metadata": {
    "collapsed": true
   },
   "outputs": [],
   "source": [
    "# Set the random seed\n",
    "np.random.seed(int((time.time()%1)*1.0e8))"
   ]
  },
  {
   "cell_type": "markdown",
   "metadata": {},
   "source": [
    "### Basic quantum mechanics review\n",
    "\n",
    "---\n",
    "\n",
    "$$\n",
    "H = \\frac{\\vec{p}^2}{2m} + V(\\vec{r})\n",
    "$$\n",
    "where H is the Hamiltonian (energy) and V is the potential, like $-k/r$ for electrostatics.  We make the following substitutions\n",
    "\n",
    "$$\n",
    "\\vec{p} = -i\\hbar \\nabla\n",
    "$$\n",
    "where $\\vec{p}$ is the momentum vector\n",
    "and\n",
    "$$\n",
    "t = i\\hbar \\frac{\\delta}{\\delta t}\n",
    "$$\n",
    "and t is time.\n",
    "\n",
    "From this, we get Schrodinger's equation for the wavefunction:\n",
    "$$\n",
    "i\\hbar \\frac{\\delta \\psi(\\vec{r},t)}{\\delta t} = \\frac{-\\hbar^2}{2m} \\nabla^2\\psi(\\vec{r},t) + V(\\vec{r})\\psi(\\vec{r},t).\n",
    "$$\n",
    "\n",
    "From the law of total probability, we get\n",
    "$$\n",
    "\\int |\\psi|^2 dxdydx = 1\n",
    "$$\n",
    "which makes it like a probability distribution."
   ]
  },
  {
   "cell_type": "markdown",
   "metadata": {},
   "source": [
    "For bound systems, eigenvalues are discrete while for free systems, eigenvalues are continuous.\n",
    "\n",
    "---\n",
    "\n",
    "For the hydrogen atom (in cgs units),\n",
    "$$\n",
    "V(\\vec{r}) = \\frac{-e^2}{r}\n",
    "$$\n",
    "is the potential and the energy levels go like\n",
    "$$\n",
    "E_n = \\frac{-e^2}{2 a_0 n^2}\n",
    "$$\n",
    "for Bohr radius $a_0$ and interger $n$.\n",
    "\n",
    "For the ground state, they kind of look like this\n",
    "$$\n",
    "R_{10}(r) = 2\\frac{1}{a_0}^{3/2}e^{r/a_0}\n",
    "$$\n",
    "where 1 is the principal quantum number $n$ and 0 is the angular momentum quantum number $l$ in the ground state.\n",
    "\n",
    "The probability that an electron in the ground state is between $r$ and $dr$ is proportional to \n",
    "$$\n",
    "4 \\pi r^2 |R_{10}(r)|^2 dr.\n",
    "$$\n",
    "\n",
    "Note: the Pauli Exclusion Principle states that two fermions (like electrons with spin $1/2$) cannot occupy the same quantum state.\n",
    "\n",
    "The wavefunction for two identical fermions (electrons) is antisymmetric with respect to exchange of the particles.  This means that the wavefunction changes sign if the space and spin coordinates of any particles are interchanged."
   ]
  },
  {
   "cell_type": "markdown",
   "metadata": {},
   "source": [
    "### Variational Quantum Monte Carlo\n",
    "\n",
    "---\n",
    "$$\n",
    "H \\psi(\\vec{R}) = E_0 \\psi(\\vec{R})\n",
    "$$\n",
    "where $\\vec{R}$ contains position and velocity vectors for all particles involved.  Then, we sum the hamiltonian with some interaction term between the particles.\n",
    "\n",
    "We can estimate an upper bound by doing something like\n",
    "$$\n",
    "E_{var} = \\frac{\\int \\psi_T^* H \\psi_T d\\vec{R}}{|\\psi(\\vec{R})|^2 d\\vec{R}}\n",
    "$$\n",
    "where $\\psi_T$ is some trial wavefunction with some parameters.  This is effectively an optimization problem, so MCMC works well."
   ]
  },
  {
   "cell_type": "code",
   "execution_count": null,
   "metadata": {
    "collapsed": true
   },
   "outputs": [],
   "source": []
  },
  {
   "cell_type": "code",
   "execution_count": null,
   "metadata": {
    "collapsed": true
   },
   "outputs": [],
   "source": []
  },
  {
   "cell_type": "markdown",
   "metadata": {},
   "source": [
    "### Homework 7 Scratch\n",
    "\n",
    "---\n",
    "\n",
    "Self-avoiding random walk on a 3d lattice.  A decent model of a dilute solution of polymers in a good solvent.\n",
    "\n",
    "Acceptance = A/num_runs so only a small number of the chains will not have a self-intersection and will be accepted.  Error grows faster than a usual random walk which scales as N."
   ]
  },
  {
   "cell_type": "code",
   "execution_count": 133,
   "metadata": {
    "collapsed": false
   },
   "outputs": [],
   "source": [
    "def self_avoiding_random_walk(steps):\n",
    "    bFirstStep = True\n",
    "    \n",
    "    history = [(0,0,0)] # Contains history of steps (tuples of (x,y,z)) we wish to avoid\n",
    "    \n",
    "    i = 0 # step counter\n",
    "    \n",
    "    # Directions for 3d lattice\n",
    "    new = [xx for xx in range(1,7)]\n",
    "    \n",
    "    # Initial position\n",
    "    x = 0\n",
    "    y = 0\n",
    "    z = 0\n",
    "    past = 0\n",
    "    \n",
    "    #Run the random walk starting from the origin, (0,0,0)\n",
    "    for i in range(0,steps):\n",
    "        \n",
    "        if bFirstStep: # Can go any of 6 ways initially\n",
    "            prob = 1./6. # Probability of moving a given direction\n",
    "            \n",
    "            # Get random number\n",
    "            r = np.random.uniform(0.0,1.0)\n",
    "            \n",
    "            # Pick a direction\n",
    "            if r <= prob:\n",
    "                x = x + 1 # Go right\n",
    "                past = 1\n",
    "            elif r > prob and r <= 2.0*prob:\n",
    "                x = x - 1 # Go left\n",
    "                past = 2\n",
    "            elif r > 2.0*prob and r <= 3.0*prob:\n",
    "                y = y + 1 # Go top\n",
    "                past = 3\n",
    "            elif r > 3.0*prob and r <= 4.0*prob:\n",
    "                y = y - 1 # Go bottom\n",
    "                past = 4\n",
    "            elif r > 4.0*prob and r < 5.0*prob:\n",
    "                z = z + 1 # Go up\n",
    "                past = 5\n",
    "            else:\n",
    "                z = z - 1 # Go down\n",
    "                past = 6\n",
    "                \n",
    "            # Add this step to step history\n",
    "            history.append((x,y,z))\n",
    "            \n",
    "            # Not the first step anymore\n",
    "            bFirstStep = False\n",
    "            \n",
    "        # Not first step, can only go 1 of 5 directions\n",
    "        else:\n",
    "            # Exclude the past direction\n",
    "            new.remove(past)\n",
    "            \n",
    "            old_past = past # Cache past step\n",
    "            \n",
    "            prob = 1./5. # Probability to move in a given direction\n",
    "            \n",
    "            # Get random number\n",
    "            r = np.random.uniform(0.0,1.0)\n",
    "            \n",
    "            # Loop over directions\n",
    "            for i in range(0,len(new)):\n",
    "                if r > i*prob and r <= (i+1)*prob:\n",
    "                    next_step = new[i]\n",
    "                    break\n",
    "            \n",
    "            # Now step, save which direction you step\n",
    "            if next_step == 1:\n",
    "                x = x + 1 # Go right\n",
    "                past = 1\n",
    "            elif next_step == 2:\n",
    "                x = x - 1 # Go left\n",
    "                past = 2\n",
    "            elif next_step == 3:\n",
    "                y = y + 1 # Go top\n",
    "                past = 3\n",
    "            elif next_step == 4:\n",
    "                y = y - 1 # Go bottom\n",
    "                past = 4\n",
    "            elif next_step == 5:\n",
    "                z = z + 1 # Go up\n",
    "                past = 5\n",
    "            else:\n",
    "                z = z - 1 # Go down\n",
    "                past = 6\n",
    "                        \n",
    "            # Add old_past back to direction list\n",
    "            new.append(old_past)\n",
    "            \n",
    "            # Now check if we've been here before\n",
    "            current_position = (x,y,z)\n",
    "            \n",
    "            # Been there, reject this iteration\n",
    "            if current_position in history:\n",
    "                return [(0,0,0)], 0.0 \n",
    "            # Haven't been there, add step and repeat\n",
    "            else:\n",
    "                # Add this step to your history\n",
    "                history.append((x,y,z))\n",
    "            \n",
    "    # Simulation over: return final position and squared distance from origin\n",
    "    return history[-1], (history[-1][0]**2 + history[-1][1]**2 + history[-1][2]**2)"
   ]
  },
  {
   "cell_type": "code",
   "execution_count": 157,
   "metadata": {
    "collapsed": false
   },
   "outputs": [],
   "source": [
    "def self_avoiding_ensemble(steps,N=10000):\n",
    "    s2 = []\n",
    "    acceptance = 0.0\n",
    "    \n",
    "    for i in range(0,N):\n",
    "        tmps2 = self_avoiding_random_walk(steps)[1] # only save square distance from origin\n",
    "        \n",
    "        # Did it actually go anywhere? If so, save this\n",
    "        if tmps2 > 0.0:\n",
    "            acceptance = acceptance + 1.0\n",
    "            s2.append(tmps2)\n",
    "        \n",
    "    # Return mean, std\n",
    "    s2 = np.array(s2)\n",
    "    return np.mean(s2), np.std(s2), acceptance/N"
   ]
  },
  {
   "cell_type": "code",
   "execution_count": 175,
   "metadata": {
    "collapsed": false
   },
   "outputs": [],
   "source": [
    "steps = np.array([5, 10, 15, 20, 25, 30])\n",
    "\n",
    "means = np.zeros(len(steps))\n",
    "stds = np.zeros(len(steps))\n",
    "A = np.zeros(len(steps))\n",
    "\n",
    "for i in range(0,len(steps)):\n",
    "    means[i], stds[i], A[i] = self_avoiding_ensemble(steps[i],N=100000)"
   ]
  },
  {
   "cell_type": "code",
   "execution_count": 176,
   "metadata": {
    "collapsed": false
   },
   "outputs": [
    {
     "data": {
      "image/png": "[encoded data removed]",
      "text/plain": [
       "<matplotlib.figure.Figure at 0x10e125650>"
      ]
     },
     "metadata": {},
     "output_type": "display_data"
    }
   ],
   "source": [
    "fig, ax = plt.subplots()\n",
    "\n",
    "ax.errorbar(steps,means,yerr=stds,fmt=\"o\")\n",
    "\n",
    "ax.set_xlim(steps.min() - 0.1*steps.min(),steps.max() + 0.1*steps.max());\n",
    "\n",
    "#ax.set_yscale(\"log\")\n",
    "#ax.set_xscale(\"log\")"
   ]
  },
  {
   "cell_type": "code",
   "execution_count": null,
   "metadata": {
    "collapsed": true
   },
   "outputs": [],
   "source": []
  }
 ],
 "metadata": {
  "kernelspec": {
   "display_name": "Python 2",
   "language": "python",
   "name": "python2"
  },
  "language_info": {
   "codemirror_mode": {
    "name": "ipython",
    "version": 2
   },
   "file_extension": ".py",
   "mimetype": "text/x-python",
   "name": "python",
   "nbconvert_exporter": "python",
   "pygments_lexer": "ipython2",
   "version": "2.7.11"
  }
 },
 "nbformat": 4,
 "nbformat_minor": 0
}
