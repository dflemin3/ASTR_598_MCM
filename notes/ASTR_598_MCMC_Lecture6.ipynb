{
 "cells": [
  {
   "cell_type": "code",
   "execution_count": 63,
   "metadata": {
    "collapsed": false
   },
   "outputs": [],
   "source": [
    "%matplotlib inline\n",
    "\n",
    "from __future__ import division, print_function\n",
    "\n",
    "import numpy as np\n",
    "import matplotlib as mpl\n",
    "import matplotlib.pyplot as plt\n",
    "from scipy.special import factorial\n",
    "from scipy.special import gamma\n",
    "import time\n",
    "from scipy import integrate\n",
    "\n",
    "#Typical plot parameters that make for pretty plots\n",
    "mpl.rcParams['figure.figsize'] = (8,8)\n",
    "mpl.rcParams['font.size'] = 30.0\n",
    "\n",
    "from matplotlib import rc\n",
    "## for Palatino and other serif fonts use:\n",
    "rc('font',**{'family':'serif','serif':['Computer Modern']})\n",
    "rc('text', usetex=True)"
   ]
  },
  {
   "cell_type": "code",
   "execution_count": null,
   "metadata": {
    "collapsed": true
   },
   "outputs": [],
   "source": []
  },
  {
   "cell_type": "markdown",
   "metadata": {},
   "source": [
    "### Set the random seed"
   ]
  },
  {
   "cell_type": "code",
   "execution_count": 2,
   "metadata": {
    "collapsed": true
   },
   "outputs": [],
   "source": [
    "np.random.seed(int((time.time()%1)*1.0e8))"
   ]
  },
  {
   "cell_type": "markdown",
   "metadata": {},
   "source": [
    "### Monte Carlo Radiative Transfer\n",
    "\n",
    "---\n",
    "\n",
    "Has astrophysical, planetary science, neutron diffusion, and medical physics applications.\n",
    "\n",
    "In the abscence of scattering and not self-luminous material,\n",
    "$$\n",
    "\\frac{dI_{\\nu}}{dx} = -I_{\\nu} \\kappa_{\\nu}\n",
    "$$\n",
    "\n",
    "where $\\kappa_{\\nu}$ is the volume absorption coefficient.\n",
    "\n",
    "Reformulate in terms of the optical depth:\n",
    "$$\n",
    "\\frac{dI_{\\nu}}{d \\tau_{\\nu}} = -I_{\\nu}\n",
    "$$\n",
    "\n",
    "Solving this gives us Beer's law:\n",
    "$$\n",
    "I_{\\nu}(x_f) = I_{\\nu}(0)e^{-\\tau_{\\nu}}\n",
    "$$\n",
    "\n",
    "Seems easy, but when scattering is included, the situation becomes much more difficult.\n",
    "\n",
    "---\n",
    "\n",
    "Single scattering albedo:\n",
    "$$\n",
    "= \\frac{\\kappa_{s}}{\\kappa_{s} + \\kappa_{a}}\n",
    "$$\n",
    "where $\\kappa_{s}$ is the volume scattering coefficient and $\\kappa_{a}$ is the volume absorption coefficient.\n",
    "\n",
    "We define\n",
    "$$\n",
    "\\kappa_{s} = n_s \\sigma_s\n",
    "$$\n",
    "and\n",
    "$$\n",
    "\\kappa_{a} = n_a \\sigma_a\n",
    "$$\n",
    "\n",
    "Next, the phase function $p(\\theta, \\phi)$ is the probability that the photon will get scattering in the direction $\\theta, \\phi$ where the total probability must of course be 1.  The angles range from $\\theta = 0 - \\pi$ and $\\phi = 0 - 2\\pi$. To show normalization, intgrate $p d\\Omega / 4\\pi$ over all angles."
   ]
  },
  {
   "cell_type": "markdown",
   "metadata": {},
   "source": [
    "For isotropic scattering, we expect $p(\\theta, \\phi) = 1$ as there is no directional preference.  In princple, probably not true but it's easy.  More realistic scattering is Rayleigh Scattering which goes as\n",
    "$$\n",
    "p(\\theta, \\phi) = \\frac{3}{4}(1 + \\cos^2 \\theta)\n",
    "$$\n",
    "but we'll just use simple isotropic scattering.  Also in reality, polarization must be considered.\n",
    "\n",
    "To solve this, select some $\\mu$ uniformly from -1 to 1 (parameterizes $\\theta$) and select $\\phi$ uniformly from 0 to $2\\pi$ at each scattering step."
   ]
  },
  {
   "cell_type": "markdown",
   "metadata": {},
   "source": [
    "### Algorithm\n",
    "\n",
    "```\n",
    "Schematic:\n",
    "1) Emit a photon from a source in direction (theta,phi)\n",
    "2) Photon travels in straight line for some distance and then it interacts with the medium.\n",
    "3) Use the single-scattering albedo to predict to decide if the photon gets absorbed or scattered.\n",
    "4) If absorbed, emit another photon and go again\n",
    "\n",
    "- Loop over number of photons and loop over of number of steps for each photon\n",
    "```\n",
    "\n",
    "1) How do we decide how far to travel in a straight line?  Look at the optical depth!\n",
    "\n",
    "$$\n",
    "P(\\tau)d\\tau = e^{-\\tau}d\\tau\n",
    "$$\n",
    "\n",
    "So we sample $\\tau$ and use that to get a distance from the integral equation for the optical depth.  To sample this, we'll use the transformation method where we pick\n",
    "\n",
    "$$\n",
    "\\tau_0 = -ln(1 - U)\n",
    "$$\n",
    "\n",
    "where U is a random uniform number between 0 and 1.\n",
    "\n",
    "To convert this into a physical distance, chunk up the integral so\n",
    "\n",
    "$$\n",
    "\\tau_0 = \\int^x_0 k_{\\nu} dx' = \\sum_i k_{\\nu}(x_i)\n",
    "$$\n",
    "\n",
    "where we keep adding pieces until we get $\\tau_0$ and hence x.\n",
    "\n",
    "2) How do we decide to scatter or absorb?\n",
    "```\n",
    "if U[rand from 0,1] < single scattering albedo:\n",
    "    scatter photon\n",
    "else:\n",
    "    absorb photon\n",
    "```\n",
    "\n",
    "3) How do we decide new direction of photon?\n",
    "\n",
    "Use the isotropic phase function."
   ]
  },
  {
   "cell_type": "markdown",
   "metadata": {},
   "source": [
    "### Plane-parallel atmosphere\n",
    "\n",
    "```\n",
    "For some distance traveled s (see above for how to calculate s) and assuming spherical geometry...\n",
    "1) Sample s, theta, phi\n",
    "\n",
    "2) Update photon positions\n",
    "    x = x_old + s * sin(theta) * cos(phi)\n",
    "    y = y_old + s * sin(theta) * sin(phi)\n",
    "    z = z_old + s * cos(theta)\n",
    "  \n",
    "3) Repeat for steps for photon lifetime, number of photons\n",
    "```"
   ]
  },
  {
   "cell_type": "markdown",
   "metadata": {},
   "source": [
    "### Homework 6 Work: 2d random walk along a square lattice.\n",
    "\n",
    "---\n",
    "\n",
    "See http://www.mit.edu/~kardar/teaching/projects/chemotaxis(AndreaSchmidt)/random.htm for some simple theory and expectations."
   ]
  },
  {
   "cell_type": "code",
   "execution_count": 47,
   "metadata": {
    "collapsed": true
   },
   "outputs": [],
   "source": [
    "def random_walk_2d(N):\n",
    "    # For N steps, do a 2d random walk on some lattice in xy space\n",
    "    \n",
    "    # Initially start at the origin\n",
    "    x = 0.0\n",
    "    y = 0.0\n",
    "    \n",
    "    for i in range(0,N):\n",
    "        \n",
    "        # Get random numbers for x, y motion\n",
    "        r = np.random.uniform(0,1)\n",
    "        \n",
    "        if(r < 0.25): # Move left\n",
    "            x = x - 1.0\n",
    "        elif(r >= 0.25 and r < 0.5): # Move up\n",
    "            y = y + 1.0\n",
    "        elif(r >= 0.5 and r < 0.75): # Move right\n",
    "            x = x + 1.0\n",
    "        else: # Move down\n",
    "            y = y - 1.0\n",
    "        \n",
    "    # Return squared distance from the origin\n",
    "    return x**2 + y**2, x, y"
   ]
  },
  {
   "cell_type": "code",
   "execution_count": 48,
   "metadata": {
    "collapsed": true
   },
   "outputs": [],
   "source": [
    "def random_walk_2d_ensemble(num, N):\n",
    "    # Run num random walk runs each of N length\n",
    "    \n",
    "    # Allocate arrays to store results of random walk runs\n",
    "    res = np.zeros(num)\n",
    "    \n",
    "    for i in range(0,num):\n",
    "        res[i] = random_walk_2d(N)[0]\n",
    "        \n",
    "    # Return mean, std\n",
    "    return np.mean(res), np.std(res)"
   ]
  },
  {
   "cell_type": "code",
   "execution_count": 49,
   "metadata": {
    "collapsed": false
   },
   "outputs": [],
   "source": [
    "N = np.array([100,1000,10000,100000])\n",
    "num = 100\n",
    "\n",
    "means = np.zeros(len(N))\n",
    "stds = np.zeros(len(N))\n",
    "\n",
    "for i in range(0,len(N)):\n",
    "    means[i], stds[i] = random_walk_2d_ensemble(num, N[i])"
   ]
  },
  {
   "cell_type": "code",
   "execution_count": 65,
   "metadata": {
    "collapsed": false
   },
   "outputs": [
    {
     "data": {
      "image/png": "[encoded data removed]",
      "text/plain": [
       "<matplotlib.figure.Figure at 0x10f993850>"
      ]
     },
     "metadata": {},
     "output_type": "display_data"
    }
   ],
   "source": [
    "fig, ax = plt.subplots(figsize=(10,10))\n",
    "\n",
    "# Plot theoretical value\n",
    "expected = N\n",
    "\n",
    "ax.errorbar(N,means,yerr=stds,fmt=\"o\",label=r\"Observed $s^2$\")\n",
    "ax.plot(N,expected,\"o-\",label=r\"Expected s^2 \\approx N\")\n",
    "\n",
    "ax.set_xlabel(\"N\")\n",
    "ax.set_ylabel(r\"$<s^2>$\")\n",
    "\n",
    "ax.set_xlim(N.min()-0.1*N.min(),N.max()+0.1*N.max())\n",
    "ax.set_xlim(means.min()-0.1*means.min(),means.max()+0.1*means.max())\n",
    "\n",
    "ax.set_xscale(\"log\")\n",
    "ax.set_yscale(\"log\")\n",
    "ax.legend(loc=\"upper left\", fontsize=20)\n",
    "\n",
    "fig.tight_layout()"
   ]
  },
  {
   "cell_type": "code",
   "execution_count": null,
   "metadata": {
    "collapsed": true
   },
   "outputs": [],
   "source": []
  }
 ],
 "metadata": {
  "kernelspec": {
   "display_name": "Python 2",
   "language": "python",
   "name": "python2"
  },
  "language_info": {
   "codemirror_mode": {
    "name": "ipython",
    "version": 2
   },
   "file_extension": ".py",
   "mimetype": "text/x-python",
   "name": "python",
   "nbconvert_exporter": "python",
   "pygments_lexer": "ipython2",
   "version": "2.7.11"
  }
 },
 "nbformat": 4,
 "nbformat_minor": 0
}
